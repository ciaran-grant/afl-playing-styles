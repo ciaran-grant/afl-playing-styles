{
 "cells": [
  {
   "cell_type": "code",
   "execution_count": 1,
   "metadata": {},
   "outputs": [],
   "source": [
    "from utils import load_display_options, ignore_warnings\n",
    "load_display_options()\n",
    "ignore_warnings()"
   ]
  },
  {
   "cell_type": "code",
   "execution_count": 2,
   "metadata": {},
   "outputs": [],
   "source": [
    "from visualisation.visualise import load_fonts, load_mpl_style\n",
    "visualisation_path = \"/Users/ciaran/Documents/Projects/AFL/git-repositories/afl-playing-styles/src/visualisation\"\n",
    "font_path = visualisation_path + \"/fonts\"\n",
    "# style_path = visualisation_path + \"/mplstyle/lilac_pitch_clusters.mplstyle\"\n",
    "\n",
    "load_fonts(font_path)\n",
    "# load_mpl_style(style_path)"
   ]
  },
  {
   "cell_type": "code",
   "execution_count": 3,
   "metadata": {},
   "outputs": [],
   "source": [
    "import pandas as pd"
   ]
  },
  {
   "attachments": {},
   "cell_type": "markdown",
   "metadata": {},
   "source": [
    "Load Chain Data"
   ]
  },
  {
   "cell_type": "code",
   "execution_count": 23,
   "metadata": {},
   "outputs": [],
   "source": [
    "summary = pd.read_csv(\"/Users/ciaran/Documents/Projects/AFL/git-repositories/afl-playing-styles/data/match_summary.csv\")\n",
    "chains = pd.read_csv(\"/Users/ciaran/Documents/Projects/AFL/git-repositories/afl-playing-styles/data/playing_style_chains_v2.csv\")\n",
    "player_stats = pd.read_csv(\"/Users/ciaran/Documents/Projects/AFL/git-repositories/afl-playing-styles/data/playing_style_stats_v2.csv\")\n",
    "match_id = \"2022F4_Geelong_Sydney\"\n",
    "team = \"Geelong\""
   ]
  },
  {
   "attachments": {},
   "cell_type": "markdown",
   "metadata": {},
   "source": [
    "Get Plot Data"
   ]
  },
  {
   "cell_type": "code",
   "execution_count": 24,
   "metadata": {},
   "outputs": [],
   "source": [
    "from chain_utils import get_match, get_team"
   ]
  },
  {
   "cell_type": "code",
   "execution_count": 25,
   "metadata": {},
   "outputs": [],
   "source": [
    "match_summary = get_match(summary, match_id)\n",
    "\n",
    "match_chains = get_match(chains, match_id)\n",
    "team_chains = get_team(match_chains, team)\n",
    "\n",
    "match_player_stats = get_match(player_stats, match_id)\n",
    "team_player_stats = get_team(match_player_stats, team)"
   ]
  },
  {
   "cell_type": "code",
   "execution_count": 37,
   "metadata": {},
   "outputs": [
    {
     "data": {
      "text/plain": [
       "412    20\n",
       "Name: Q4_Score, dtype: object"
      ]
     },
     "execution_count": 37,
     "metadata": {},
     "output_type": "execute_result"
    }
   ],
   "source": [
    "match_summary['Q4_Score'].apply(lambda x: x.split(\" - \")[0].split(\".\")[0])"
   ]
  },
  {
   "cell_type": "code",
   "execution_count": 38,
   "metadata": {},
   "outputs": [],
   "source": [
    "def get_scores(summary):\n",
    "    \n",
    "    summary['Home_Goals'] = summary['Q4_Score'].apply(lambda x: x.split(\" - \")[0].split(\".\")[0])\n",
    "    summary['Home_Behinds'] = summary['Q4_Score'].apply(lambda x: x.split(\" - \")[0].split(\".\")[1])\n",
    "    summary['Home_Score'] = summary['Q4_Score'].apply(lambda x: x.split(\" - \")[0].split(\".\")[2])\n",
    "    \n",
    "    summary['Away_Goals'] = summary['Q4_Score'].apply(lambda x: x.split(\" - \")[1].split(\".\")[0])\n",
    "    summary['Away_Behinds'] = summary['Q4_Score'].apply(lambda x: x.split(\" - \")[1].split(\".\")[1])\n",
    "    summary['Away_Score'] = summary['Q4_Score'].apply(lambda x: x.split(\" - \")[1].split(\".\")[2])\n",
    "    \n",
    "    return summary"
   ]
  },
  {
   "cell_type": "code",
   "execution_count": 54,
   "metadata": {},
   "outputs": [
    {
     "data": {
      "text/html": [
       "<div>\n",
       "<style scoped>\n",
       "    .dataframe tbody tr th:only-of-type {\n",
       "        vertical-align: middle;\n",
       "    }\n",
       "\n",
       "    .dataframe tbody tr th {\n",
       "        vertical-align: top;\n",
       "    }\n",
       "\n",
       "    .dataframe thead th {\n",
       "        text-align: right;\n",
       "    }\n",
       "</style>\n",
       "<table border=\"1\" class=\"dataframe\">\n",
       "  <thead>\n",
       "    <tr style=\"text-align: right;\">\n",
       "      <th></th>\n",
       "      <th>Team</th>\n",
       "      <th>Goals</th>\n",
       "      <th>Behinds</th>\n",
       "      <th>Score</th>\n",
       "    </tr>\n",
       "  </thead>\n",
       "  <tbody>\n",
       "    <tr>\n",
       "      <th>412</th>\n",
       "      <td>Geelong</td>\n",
       "      <td>20</td>\n",
       "      <td>13</td>\n",
       "      <td>133</td>\n",
       "    </tr>\n",
       "    <tr>\n",
       "      <th>412</th>\n",
       "      <td>Sydney</td>\n",
       "      <td>8</td>\n",
       "      <td>4</td>\n",
       "      <td>52</td>\n",
       "    </tr>\n",
       "  </tbody>\n",
       "</table>\n",
       "</div>"
      ],
      "text/plain": [
       "        Team Goals Behinds Score\n",
       "412  Geelong    20      13   133\n",
       "412   Sydney     8       4    52"
      ]
     },
     "execution_count": 54,
     "metadata": {},
     "output_type": "execute_result"
    }
   ],
   "source": [
    "match_summary = get_scores(match_summary)\n",
    "home_match_summary = match_summary[['Home_Team', 'Home_Goals', 'Home_Behinds', 'Home_Score']]\n",
    "home_match_summary.columns = ['Team', 'Goals', 'Behinds', 'Score']\n",
    "\n",
    "away_match_summary = match_summary[['Away_Team', 'Away_Goals', 'Away_Behinds', 'Away_Score']]\n",
    "away_match_summary.columns = ['Team', 'Goals', 'Behinds', 'Score']\n",
    "score_match_summary = pd.concat([home_match_summary, away_match_summary])\n",
    "score_match_summary"
   ]
  },
  {
   "cell_type": "code",
   "execution_count": 67,
   "metadata": {},
   "outputs": [],
   "source": [
    "def create_match_score_summary(match_summary):\n",
    "    \n",
    "    match_summary = get_scores(match_summary)\n",
    "    \n",
    "    home_match_summary = match_summary[['Home_Team', 'Home_Goals', 'Home_Behinds', 'Home_Score']]\n",
    "    home_match_summary.columns = ['Team', 'Goals', 'Behinds', 'Score']\n",
    "\n",
    "    away_match_summary = match_summary[['Away_Team', 'Away_Goals', 'Away_Behinds', 'Away_Score']]\n",
    "    away_match_summary.columns = ['Team', 'Goals', 'Behinds', 'Score']\n",
    "    \n",
    "    match_score_summary = pd.concat([home_match_summary, away_match_summary])\n",
    "    \n",
    "    return match_score_summary"
   ]
  },
  {
   "cell_type": "code",
   "execution_count": 68,
   "metadata": {},
   "outputs": [],
   "source": [
    "def create_match_statistics_data(player_stats, score_summary):\n",
    "    \n",
    "    match_stats = player_stats.groupby('Team').sum()[['Disposals', 'Effective_Disposals', 'Goal_Assists', 'Pressure_Acts', 'Shots_At_Goal', 'Possessions', 'xScore', 'exp_offensive_value',  'exp_vaep_value_received', 'xDisposal']].reset_index()\n",
    "    match_stats = match_stats.merge(score_summary, how = 'left', left_on='Team', right_on='Team')\n",
    "    match_stats = match_stats.set_index('Team').T.reset_index()\n",
    "    match_stats.rename(columns={'index': 'Statistics'}, inplace=True)\n",
    "\n",
    "    table_order = ['Score', 'xScore', 'Goals', 'Behinds', 'Shots_At_Goal', 'Goal_Assists', 'Possessions', 'Disposals', 'Effective_Disposals', 'xDisposal', 'exp_offensive_value', 'exp_vaep_value_received', 'Pressure_Acts']\n",
    "    match_stats['Statistics'] = pd.Categorical(match_stats['Statistics'], categories=table_order, ordered=True)\n",
    "    match_stats = match_stats.sort_values('Statistics').set_index('Statistics')\n",
    "    \n",
    "    return match_stats"
   ]
  },
  {
   "cell_type": "code",
   "execution_count": 69,
   "metadata": {},
   "outputs": [],
   "source": [
    "match_summary = get_match(summary, match_id)\n",
    "match_player_stats = get_match(player_stats, match_id)\n",
    "match_score_summary = create_match_score_summary(match_summary)\n",
    "match_stats = create_match_statistics_data(match_player_stats, match_score_summary)"
   ]
  },
  {
   "cell_type": "code",
   "execution_count": 71,
   "metadata": {},
   "outputs": [],
   "source": [
    "def create_match_stats(summary, player_stats, match_id):\n",
    "    \n",
    "    match_summary = get_match(summary, match_id)\n",
    "    match_player_stats = get_match(player_stats, match_id)\n",
    "    match_score_summary = create_match_score_summary(match_summary)\n",
    "    match_stats = create_match_statistics_data(match_player_stats, match_score_summary)\n",
    "\n",
    "    return match_stats"
   ]
  },
  {
   "cell_type": "code",
   "execution_count": 72,
   "metadata": {},
   "outputs": [
    {
     "data": {
      "text/html": [
       "<div>\n",
       "<style scoped>\n",
       "    .dataframe tbody tr th:only-of-type {\n",
       "        vertical-align: middle;\n",
       "    }\n",
       "\n",
       "    .dataframe tbody tr th {\n",
       "        vertical-align: top;\n",
       "    }\n",
       "\n",
       "    .dataframe thead th {\n",
       "        text-align: right;\n",
       "    }\n",
       "</style>\n",
       "<table border=\"1\" class=\"dataframe\">\n",
       "  <thead>\n",
       "    <tr style=\"text-align: right;\">\n",
       "      <th>Team</th>\n",
       "      <th>Geelong</th>\n",
       "      <th>Sydney</th>\n",
       "    </tr>\n",
       "    <tr>\n",
       "      <th>Statistics</th>\n",
       "      <th></th>\n",
       "      <th></th>\n",
       "    </tr>\n",
       "  </thead>\n",
       "  <tbody>\n",
       "    <tr>\n",
       "      <th>Score</th>\n",
       "      <td>133</td>\n",
       "      <td>52</td>\n",
       "    </tr>\n",
       "    <tr>\n",
       "      <th>xScore</th>\n",
       "      <td>105.171135</td>\n",
       "      <td>42.869727</td>\n",
       "    </tr>\n",
       "    <tr>\n",
       "      <th>Goals</th>\n",
       "      <td>20</td>\n",
       "      <td>8</td>\n",
       "    </tr>\n",
       "    <tr>\n",
       "      <th>Behinds</th>\n",
       "      <td>13</td>\n",
       "      <td>4</td>\n",
       "    </tr>\n",
       "    <tr>\n",
       "      <th>Shots_At_Goal</th>\n",
       "      <td>35</td>\n",
       "      <td>13</td>\n",
       "    </tr>\n",
       "    <tr>\n",
       "      <th>Goal_Assists</th>\n",
       "      <td>14</td>\n",
       "      <td>5</td>\n",
       "    </tr>\n",
       "    <tr>\n",
       "      <th>Possessions</th>\n",
       "      <td>404</td>\n",
       "      <td>299</td>\n",
       "    </tr>\n",
       "    <tr>\n",
       "      <th>Disposals</th>\n",
       "      <td>395</td>\n",
       "      <td>304</td>\n",
       "    </tr>\n",
       "    <tr>\n",
       "      <th>Effective_Disposals</th>\n",
       "      <td>296.0</td>\n",
       "      <td>232.0</td>\n",
       "    </tr>\n",
       "    <tr>\n",
       "      <th>xDisposal</th>\n",
       "      <td>290.985044</td>\n",
       "      <td>218.21455</td>\n",
       "    </tr>\n",
       "    <tr>\n",
       "      <th>exp_offensive_value</th>\n",
       "      <td>224.775711</td>\n",
       "      <td>97.650648</td>\n",
       "    </tr>\n",
       "    <tr>\n",
       "      <th>exp_vaep_value_received</th>\n",
       "      <td>193.969266</td>\n",
       "      <td>136.055364</td>\n",
       "    </tr>\n",
       "    <tr>\n",
       "      <th>Pressure_Acts</th>\n",
       "      <td>255.0</td>\n",
       "      <td>289.0</td>\n",
       "    </tr>\n",
       "  </tbody>\n",
       "</table>\n",
       "</div>"
      ],
      "text/plain": [
       "Team                        Geelong      Sydney\n",
       "Statistics                                     \n",
       "Score                           133          52\n",
       "xScore                   105.171135   42.869727\n",
       "Goals                            20           8\n",
       "Behinds                          13           4\n",
       "Shots_At_Goal                    35          13\n",
       "Goal_Assists                     14           5\n",
       "Possessions                     404         299\n",
       "Disposals                       395         304\n",
       "Effective_Disposals           296.0       232.0\n",
       "xDisposal                290.985044   218.21455\n",
       "exp_offensive_value      224.775711   97.650648\n",
       "exp_vaep_value_received  193.969266  136.055364\n",
       "Pressure_Acts                 255.0       289.0"
      ]
     },
     "execution_count": 72,
     "metadata": {},
     "output_type": "execute_result"
    }
   ],
   "source": [
    "match_stats = create_match_stats(summary, player_stats, match_id)\n",
    "match_stats"
   ]
  },
  {
   "cell_type": "code",
   "execution_count": 150,
   "metadata": {},
   "outputs": [],
   "source": [
    "def format_table_numbers(match_stats):\n",
    "    \n",
    "    # \n",
    "    match_stats = match_stats.astype(float)\n",
    "    \n",
    "    # Integers\n",
    "    integer_cols = ['Score', 'Goals', 'Behinds', 'Shots_At_Goal', 'Goal_Assists', 'Possessions', 'Disposals', 'Effective_Disposals', 'Pressure_Acts']\n",
    "    match_stats.loc[integer_cols] = match_stats.loc[integer_cols].astype(int)\n",
    "    \n",
    "    # Floats\n",
    "    float_cols = ['xScore', 'xDisposal', 'exp_offensive_value', 'exp_vaep_value_received']\n",
    "    match_stats.loc[float_cols] = match_stats.loc[float_cols].astype(float).round(1)\n",
    "    \n",
    "    return match_stats"
   ]
  },
  {
   "cell_type": "code",
   "execution_count": 151,
   "metadata": {},
   "outputs": [],
   "source": [
    "match_stats = format_table_numbers(match_stats)"
   ]
  },
  {
   "cell_type": "code",
   "execution_count": 154,
   "metadata": {},
   "outputs": [
    {
     "data": {
      "text/html": [
       "<div>\n",
       "<style scoped>\n",
       "    .dataframe tbody tr th:only-of-type {\n",
       "        vertical-align: middle;\n",
       "    }\n",
       "\n",
       "    .dataframe tbody tr th {\n",
       "        vertical-align: top;\n",
       "    }\n",
       "\n",
       "    .dataframe thead th {\n",
       "        text-align: right;\n",
       "    }\n",
       "</style>\n",
       "<table border=\"1\" class=\"dataframe\">\n",
       "  <thead>\n",
       "    <tr style=\"text-align: right;\">\n",
       "      <th>Team</th>\n",
       "      <th>Geelong</th>\n",
       "      <th>Sydney</th>\n",
       "    </tr>\n",
       "    <tr>\n",
       "      <th>Statistics</th>\n",
       "      <th></th>\n",
       "      <th></th>\n",
       "    </tr>\n",
       "  </thead>\n",
       "  <tbody>\n",
       "    <tr>\n",
       "      <th>Score</th>\n",
       "      <td>133.0</td>\n",
       "      <td>52.0</td>\n",
       "    </tr>\n",
       "    <tr>\n",
       "      <th>xScore</th>\n",
       "      <td>105.2</td>\n",
       "      <td>42.9</td>\n",
       "    </tr>\n",
       "    <tr>\n",
       "      <th>Goals</th>\n",
       "      <td>20.0</td>\n",
       "      <td>8.0</td>\n",
       "    </tr>\n",
       "    <tr>\n",
       "      <th>Behinds</th>\n",
       "      <td>13.0</td>\n",
       "      <td>4.0</td>\n",
       "    </tr>\n",
       "    <tr>\n",
       "      <th>Shots_At_Goal</th>\n",
       "      <td>35.0</td>\n",
       "      <td>13.0</td>\n",
       "    </tr>\n",
       "    <tr>\n",
       "      <th>Goal_Assists</th>\n",
       "      <td>14.0</td>\n",
       "      <td>5.0</td>\n",
       "    </tr>\n",
       "    <tr>\n",
       "      <th>Possessions</th>\n",
       "      <td>404.0</td>\n",
       "      <td>299.0</td>\n",
       "    </tr>\n",
       "    <tr>\n",
       "      <th>Disposals</th>\n",
       "      <td>395.0</td>\n",
       "      <td>304.0</td>\n",
       "    </tr>\n",
       "    <tr>\n",
       "      <th>Effective_Disposals</th>\n",
       "      <td>296.0</td>\n",
       "      <td>232.0</td>\n",
       "    </tr>\n",
       "    <tr>\n",
       "      <th>xDisposal</th>\n",
       "      <td>291.0</td>\n",
       "      <td>218.2</td>\n",
       "    </tr>\n",
       "    <tr>\n",
       "      <th>exp_offensive_value</th>\n",
       "      <td>224.8</td>\n",
       "      <td>97.7</td>\n",
       "    </tr>\n",
       "    <tr>\n",
       "      <th>exp_vaep_value_received</th>\n",
       "      <td>194.0</td>\n",
       "      <td>136.1</td>\n",
       "    </tr>\n",
       "    <tr>\n",
       "      <th>Pressure_Acts</th>\n",
       "      <td>255.0</td>\n",
       "      <td>289.0</td>\n",
       "    </tr>\n",
       "  </tbody>\n",
       "</table>\n",
       "</div>"
      ],
      "text/plain": [
       "Team                     Geelong  Sydney\n",
       "Statistics                              \n",
       "Score                      133.0    52.0\n",
       "xScore                     105.2    42.9\n",
       "Goals                       20.0     8.0\n",
       "Behinds                     13.0     4.0\n",
       "Shots_At_Goal               35.0    13.0\n",
       "Goal_Assists                14.0     5.0\n",
       "Possessions                404.0   299.0\n",
       "Disposals                  395.0   304.0\n",
       "Effective_Disposals        296.0   232.0\n",
       "xDisposal                  291.0   218.2\n",
       "exp_offensive_value        224.8    97.7\n",
       "exp_vaep_value_received    194.0   136.1\n",
       "Pressure_Acts              255.0   289.0"
      ]
     },
     "execution_count": 154,
     "metadata": {},
     "output_type": "execute_result"
    }
   ],
   "source": [
    "match_stats"
   ]
  },
  {
   "attachments": {},
   "cell_type": "markdown",
   "metadata": {},
   "source": [
    "Create Table Plot"
   ]
  },
  {
   "cell_type": "code",
   "execution_count": 100,
   "metadata": {},
   "outputs": [],
   "source": [
    "import matplotlib.pyplot as plt\n",
    "import seaborn as sns\n",
    "import numpy as np"
   ]
  },
  {
   "cell_type": "code",
   "execution_count": null,
   "metadata": {},
   "outputs": [],
   "source": [
    "def get_normalised_match_stats(match_stats):\n",
    "    \n",
    "    return match_stats.div(match_stats.sum(axis=1), axis=0)"
   ]
  },
  {
   "cell_type": "code",
   "execution_count": 175,
   "metadata": {},
   "outputs": [],
   "source": [
    "norm_match_stats = match_stats.div(match_stats.sum(axis=1), axis=0)"
   ]
  },
  {
   "cell_type": "code",
   "execution_count": null,
   "metadata": {},
   "outputs": [],
   "source": [
    "def plot_heatmap(ax, data):\n",
    "    \n",
    "    heatmap = sns.heatmap(data, ax=ax, cbar=False, cmap = \"coolwarm\")\n",
    "\n",
    "    ax.set_xticklabels(list(match_stats.columns))\n",
    "    ax.xaxis.set_ticks_position('top')\n",
    "    ax.tick_params(axis='x', which='both', top=False)\n",
    "\n",
    "    ax.set_yticklabels(list(match_stats.index))\n",
    "    ax.tick_params(axis='y', which='both', left=False)\n",
    "\n",
    "    ax.set_xlabel(\"\")\n",
    "    ax.set_ylabel(\"\")\n",
    "    ax.set_title('Match Statistics')\n",
    "    \n",
    "    return ax"
   ]
  },
  {
   "cell_type": "code",
   "execution_count": null,
   "metadata": {},
   "outputs": [],
   "source": [
    "def annotate_heatmap(ax, data):\n",
    "    \n",
    "    data_array = np.array(data)\n",
    "    annotations = [[\"{:.0f}\", \"{:.0f}\"], \n",
    "                [\"{:.1f}\", \"{:.1f}\"],\n",
    "                [\"{:.0f}\", \"{:.0f}\"],\n",
    "                [\"{:.0f}\", \"{:.0f}\"],\n",
    "                [\"{:.0f}\", \"{:.0f}\"],\n",
    "                [\"{:.0f}\", \"{:.0f}\"],\n",
    "                [\"{:.0f}\", \"{:.0f}\"],\n",
    "                [\"{:.0f}\", \"{:.0f}\"],\n",
    "                [\"{:.0f}\", \"{:.0f}\"], \n",
    "                [\"{:.1f}\", \"{:.1f}\"], \n",
    "                [\"{:.1f}\", \"{:.1f}\"], \n",
    "                [\"{:.1f}\", \"{:.1f}\"], \n",
    "                [\"{:.0f}\", \"{:.0f}\"]]\n",
    "\n",
    "    for i in range(len(annotations)):\n",
    "        for j in range(len(annotations[0])):\n",
    "            formatted_text = annotations[i][j].format(data_array[i][j])\n",
    "            ax.text(j + 0.5, i + 0.5, formatted_text, \n",
    "                    ha='center', va='center', fontsize=10, color='white')\n",
    "    \n",
    "    return ax"
   ]
  },
  {
   "cell_type": "code",
   "execution_count": 207,
   "metadata": {},
   "outputs": [
    {
     "data": {
      "text/plain": [
       "Text(0.5, 1.0, 'Match Statistics')"
      ]
     },
     "execution_count": 207,
     "metadata": {},
     "output_type": "execute_result"
    },
    {
     "data": {
      "image/png": "[encoded data removed]",
      "text/plain": [
       "<Figure size 640x480 with 1 Axes>"
      ]
     },
     "metadata": {},
     "output_type": "display_data"
    }
   ],
   "source": [
    "# Create figure and axis\n",
    "fig, ax = plt.subplots()\n",
    "# fig.dpi = 250\n",
    "\n",
    "# Create a heatmap using imshow\n",
    "heatmap = sns.heatmap(norm_match_stats, ax=ax, cbar=False, cmap = \"coolwarm\")\n",
    "\n",
    "ax.set_xticklabels(list(match_stats.columns))\n",
    "ax.xaxis.set_ticks_position('top')\n",
    "ax.tick_params(axis='x', which='both', top=False)\n",
    "\n",
    "ax.set_yticklabels(list(match_stats.index))\n",
    "ax.tick_params(axis='y', which='both', left=False)\n",
    "\n",
    "ax.set_xlabel(\"\")\n",
    "ax.set_ylabel(\"\")\n",
    "\n",
    "match_stats_array = np.array(match_stats)\n",
    "annotations = [[\"{:.0f}\", \"{:.0f}\"], \n",
    "               [\"{:.1f}\", \"{:.1f}\"],\n",
    "               [\"{:.0f}\", \"{:.0f}\"],\n",
    "               [\"{:.0f}\", \"{:.0f}\"],\n",
    "               [\"{:.0f}\", \"{:.0f}\"],\n",
    "               [\"{:.0f}\", \"{:.0f}\"],\n",
    "               [\"{:.0f}\", \"{:.0f}\"],\n",
    "               [\"{:.0f}\", \"{:.0f}\"],\n",
    "               [\"{:.0f}\", \"{:.0f}\"], \n",
    "               [\"{:.1f}\", \"{:.1f}\"], \n",
    "               [\"{:.1f}\", \"{:.1f}\"], \n",
    "               [\"{:.1f}\", \"{:.1f}\"], \n",
    "               [\"{:.0f}\", \"{:.0f}\"]]\n",
    "\n",
    "for i in range(len(annotations)):\n",
    "    for j in range(len(annotations[0])):\n",
    "        formatted_text = annotations[i][j].format(match_stats_array[i][j])\n",
    "        ax.text(j + 0.5, i + 0.5, formatted_text, \n",
    "                ha='center', va='center', fontsize=10, color='white')\n",
    "\n",
    "# Add labels and title\n",
    "ax.set_title('Match Statistics')"
   ]
  },
  {
   "cell_type": "code",
   "execution_count": 91,
   "metadata": {},
   "outputs": [
    {
     "data": {
      "text/plain": [
       "<Axes: xlabel='Team', ylabel='Statistics'>"
      ]
     },
     "execution_count": 91,
     "metadata": {},
     "output_type": "execute_result"
    },
    {
     "data": {
      "image/png": "[encoded data removed]",
      "text/plain": [
       "<Figure size 640x480 with 1 Axes>"
      ]
     },
     "metadata": {},
     "output_type": "display_data"
    }
   ],
   "source": [
    "sns.heatmap(match_stats.astype(float), annot=True, cbar=False)"
   ]
  },
  {
   "cell_type": "code",
   "execution_count": null,
   "metadata": {},
   "outputs": [],
   "source": []
  }
 ],
 "metadata": {
  "kernelspec": {
   "display_name": "playing-styles-env",
   "language": "python",
   "name": "python3"
  },
  "language_info": {
   "codemirror_mode": {
    "name": "ipython",
    "version": 3
   },
   "file_extension": ".py",
   "mimetype": "text/x-python",
   "name": "python",
   "nbconvert_exporter": "python",
   "pygments_lexer": "ipython3",
   "version": "3.11.5"
  },
  "orig_nbformat": 4
 },
 "nbformat": 4,
 "nbformat_minor": 2
}
